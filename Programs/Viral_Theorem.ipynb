{
 "cells": [
  {
   "cell_type": "markdown",
   "metadata": {},
   "source": [
    "### Viral Theorem\n",
    "This program will evaluated the Virial Theroem.\n",
    "\n",
    "Virial Thereom: $2KE = U \\rightarrow mv(r)^{2} = \\frac{GM_{Tot}(r)m}{r} \\rightarrow M_{Tot}(r) = \\frac{rv(r)}{G}$ \n",
    "\n",
    "1. Define a function called $\\textbf{ViralTheorem}$\n",
    "    * This Function will take in inputs $r_{grid}$, $v(r)$, and outputs $M(r)$\n",
    "    * Constant G will need to be in correct units for data $\\frac{Kpc}{M_{\\odot}s}$\n",
    "2. Determine Velocity relation between each time step:\n",
    "    * Make plots and determine velocity is rotational or dispersions\n",
    "3. Maybe need a fudge factor\n",
    "\n",
    "\n",
    "\n"
   ]
  },
  {
   "cell_type": "code",
   "execution_count": 2,
   "metadata": {
    "collapsed": true
   },
   "outputs": [],
   "source": [
    "import numpy as np"
   ]
  },
  {
   "cell_type": "code",
   "execution_count": 2,
   "metadata": {},
   "outputs": [],
   "source": [
    "def ViralTheorem(r, v_r, Str):\n",
    "    # This function takes inputs: R_grid - [radial component of dataset] [array]\n",
    "    #                             V_grid - velocity as a function (r) [from dataset][array]\n",
    "    #                             Str =  String to indicate dispersion or rotational\n",
    "    \n",
    "    \n",
    "    #Store G = 4.498768e-6 without units [kpc3/M_sun/Gyr] \n",
    "    G = 4.498768e-6\n",
    "    if Str == \"Dispersion\":\n",
    "        \n",
    "        # Calculate the dispersion velocity, mean velocity\n",
    "        v_r = np.mean(v_r)\n",
    "        \n",
    "        # Expression for Viral Theorem in solar masses\n",
    "        Total_Mass_at_r = r * v_r / G\n",
    "        \n",
    "        \n",
    "    elif Str == \"Rotational\":\n",
    "    \n",
    "        Total_Mass_at_r = r * v_r / G\n",
    "    \n",
    "    return Total_Mass_at_r\n"
   ]
  },
  {
   "cell_type": "code",
   "execution_count": 5,
   "metadata": {},
   "outputs": [
    {
     "name": "stdout",
     "output_type": "stream",
     "text": [
      "mean = 4.50\n",
      "average = 4.50\n"
     ]
    }
   ],
   "source": [
    "a = np.arange(0,10,1)\n",
    "mean = np.mean(a)\n",
    "average = np.average(a)\n",
    "print (\"mean = %.2f\\naverage = %.2f\" % (mean, average))"
   ]
  },
  {
   "cell_type": "code",
   "execution_count": null,
   "metadata": {
    "collapsed": true
   },
   "outputs": [],
   "source": []
  }
 ],
 "metadata": {
  "kernelspec": {
   "display_name": "Python 3",
   "language": "python",
   "name": "python3"
  },
  "language_info": {
   "codemirror_mode": {
    "name": "ipython",
    "version": 3
   },
   "file_extension": ".py",
   "mimetype": "text/x-python",
   "name": "python",
   "nbconvert_exporter": "python",
   "pygments_lexer": "ipython3",
   "version": "3.6.2"
  }
 },
 "nbformat": 4,
 "nbformat_minor": 2
}
