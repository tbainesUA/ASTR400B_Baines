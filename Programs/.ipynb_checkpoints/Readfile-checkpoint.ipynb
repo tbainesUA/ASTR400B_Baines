{
 "cells": [
  {
   "cell_type": "code",
   "execution_count": 27,
   "metadata": {
    "collapsed": true
   },
   "outputs": [],
   "source": [
    "\"\"\"Import Packages\"\"\"\n",
    "import numpy as np\n",
    "import astropy.units as u\n"
   ]
  },
  {
   "cell_type": "code",
   "execution_count": 37,
   "metadata": {
    "collapsed": true
   },
   "outputs": [],
   "source": [
    "\"\"\"Loadfile Function\"\"\"\n",
    "# Define a function that will read in a file\n",
    "# Inputs: fname(without extension i.e. .txt, .dat, etc)\n",
    "# Returns: Time (Myr), total number of particles and array with data\n",
    "# CALLING FUNCTION: time, particles_tot (total), data = Read(filename) \n",
    "\n",
    "def Read(filename):\n",
    "    \n",
    "    #Set path to find where data files are stored\n",
    "    path = \"C:\\\\Users\\Tyler\\Documents\\ASTR 400B\\ASTR400B_Baines\\Data\\\\\"+filename+\".txt\"\n",
    "    #print (path) #uncomment for print check\n",
    "   \n",
    "    #open file\n",
    "    file = open(path, 'r')\n",
    "    \n",
    "    #read header info line by line (line will be a string)\n",
    "    # read first two lines FIRST and store as variable\n",
    "    \n",
    "    # read and store time \n",
    "    line1 = file.readline()\n",
    "    label, value = line1.split()\n",
    "    time = float(value)*10.0*u.Myr\n",
    "    \n",
    "    # read and store total number of particles\n",
    "    line2 = file.readline()\n",
    "    label, value = line2.split()\n",
    "    particles_tot = float(value)\n",
    "    \n",
    "    #close the file\n",
    "    file.close()\n",
    "   \n",
    "\n",
    "    # read the remainder of the file, \n",
    "    # \"dtype=None\" means line is split using white spaces\n",
    "    # \"skip_header=3\"  skipping the first 3 lines \n",
    "    # the flag \"names=True\" creates arrays to store the date\n",
    "    #       with the column headers given in line 4 like \"m\", \"x\"\n",
    "    data = np.genfromtxt(path, dtype = None, names = True, skip_header = 3)\n",
    "    \n",
    "    # this will return the time of the snapshot, \n",
    "    #total number of particles \n",
    "    #and an array that stores the remainder of the data\n",
    "    return time, particles_tot, data"
   ]
  },
  {
   "cell_type": "code",
   "execution_count": null,
   "metadata": {},
   "outputs": [],
   "source": []
  },
  {
   "cell_type": "raw",
   "metadata": {
    "collapsed": true
   },
   "source": []
  },
  {
   "cell_type": "code",
   "execution_count": null,
   "metadata": {
    "collapsed": true
   },
   "outputs": [],
   "source": []
  }
 ],
 "metadata": {
  "kernelspec": {
   "display_name": "Python 3",
   "language": "python",
   "name": "python3"
  },
  "language_info": {
   "codemirror_mode": {
    "name": "ipython",
    "version": 3
   },
   "file_extension": ".py",
   "mimetype": "text/x-python",
   "name": "python",
   "nbconvert_exporter": "python",
   "pygments_lexer": "ipython3",
   "version": "3.6.2"
  }
 },
 "nbformat": 4,
 "nbformat_minor": 2
}
