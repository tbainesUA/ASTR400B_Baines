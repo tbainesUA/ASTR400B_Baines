{
 "cells": [
  {
   "cell_type": "code",
   "execution_count": 1,
   "metadata": {
    "collapsed": true
   },
   "outputs": [],
   "source": [
    "#scrpit that finds and located specified particle info and prints physical quantities.\n",
    "\"\"\"Import Packages\"\"\"\n",
    "import numpy as np\n",
    "import astropy.units as u\n",
    "from Readfile import Read\n"
   ]
  },
  {
   "cell_type": "code",
   "execution_count": 7,
   "metadata": {
    "collapsed": true
   },
   "outputs": [],
   "source": [
    "\"\"\"Particle Info Function\"\"\"\n",
    "def ParticleInfo(particle_type, particle_num):\n",
    "    \n",
    "    #import data\n",
    "    time, P_total, data = Read(\"MW_000.txt\")\n",
    "    \n",
    "    #located specific particle type\n",
    "    index = np.where(data[\"type\"]==particle_type)x\n",
    "    \n",
    "    \n",
    "    #specify quantities \n",
    "    \"\"\"Mass [Particle Type] [ith particle select]\"\"\"\n",
    "    m = data['m'][index][particle_num-1] # array containing all mass values of particle types and ith particle\n",
    "    m = m*1e10*u.M_sun #Calculate quantity with appropiate units\n",
    "    \n",
    "    \"\"\"Positions [Particle Type] [ith particle select]\"\"\"\n",
    "    x = data['x'][index][particle_num-1] # array containing all x coordinates [Particle Type]\n",
    "    y = data['y'][index][particle_num-1] # array containing all y coordinates\n",
    "    z = data['z'][index][particle_num-1] # array containing all z coordinates\n",
    "    \n",
    "    \"\"\"Velocities [Particle Type] [ith particle select]\"\"\"\n",
    "    vx = data['vx'][index][particle_num-1] # array containing all vx coordinates\n",
    "    vy = data['vy'][index][particle_num-1] # array containing all vy coordinates\n",
    "    vz = data['vz'][index][particle_num-1] # array containing all vz coordinates\n",
    "    \n",
    "    \"\"\"3D Magnitude Calculations\"\"\"\n",
    "    R = x*x+y*y+z*z #x^2+y^2+z^2\n",
    "    V_R = vx*vx+vy*vy+vz*vz #vx^2+vy^2+vz^2\n",
    "    #calculate magnitues\n",
    "    r = np.round(np.sqrt(R),3)*u.kpc #round 3D position magnitude to 3 decimal places\n",
    "    v_r = np.round(np.sqrt(V_R),3)*u.km/u.s #round 3D velocity magnitude\n",
    "    \n",
    "    \"\"\"Print Results\"\"\"\n",
    "    print (\"Position: %s\" % r)\n",
    "    print (\"Position: %s\" % np.round(r.to(u.lyr),3))\n",
    "    print (\"Velocity: %s\" % v_r)\n",
    "    print (\"Mass: %s\" % m)"
   ]
  },
  {
   "cell_type": "code",
   "execution_count": 8,
   "metadata": {},
   "outputs": [
    {
     "name": "stdout",
     "output_type": "stream",
     "text": [
      "Position: 4.245 kpc\n",
      "Position: 13845.338 lyr\n",
      "Velocity: 312.135 km / s\n",
      "Mass: 1000000.0 solMass\n"
     ]
    }
   ],
   "source": [
    "ParticleInfo(2,100)"
   ]
  },
  {
   "cell_type": "code",
   "execution_count": null,
   "metadata": {
    "collapsed": true
   },
   "outputs": [],
   "source": []
  }
 ],
 "metadata": {
  "kernelspec": {
   "display_name": "Python 3",
   "language": "python",
   "name": "python3"
  },
  "language_info": {
   "codemirror_mode": {
    "name": "ipython",
    "version": 3
   },
   "file_extension": ".py",
   "mimetype": "text/x-python",
   "name": "python",
   "nbconvert_exporter": "python",
   "pygments_lexer": "ipython3",
   "version": "3.6.2"
  }
 },
 "nbformat": 4,
 "nbformat_minor": 2
}
