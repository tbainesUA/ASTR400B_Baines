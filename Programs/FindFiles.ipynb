{
 "cells": [
  {
   "cell_type": "code",
   "execution_count": 1,
   "metadata": {
    "collapsed": true
   },
   "outputs": [],
   "source": [
    "# This programs find the specfic files based off the time stamped one wishes to investigate\n",
    "# For Astr400 Research Project MW/M31 Galaxy Merger Simulation"
   ]
  },
  {
   "cell_type": "code",
   "execution_count": 6,
   "metadata": {
    "collapsed": true
   },
   "outputs": [],
   "source": [
    "# Import packages\n",
    "import numpy as np \n",
    "import astropy.units as u\n",
    "\n",
    "from Readfile import Read"
   ]
  },
  {
   "cell_type": "code",
   "execution_count": 45,
   "metadata": {},
   "outputs": [],
   "source": [
    "def FileFinder(Galaxy, Time_array):\n",
    "    # By Tyler Baines and Drew Weldon\n",
    "    # For Dr. Gurtina Besla ASTR 400B class Research Project\n",
    "    # Milky Way and M31 Merger Simulation\n",
    "    \n",
    "    # This Funcition takes in the arguements of: Galaxy Name (string)\n",
    "    #                                            Array of times values you want\n",
    "    #\n",
    "    # This function requires known time values you wish to investigate\n",
    "    #\n",
    "    # This program does not save values to a file, but returns the list of files\n",
    "    # you wish to examine without .txt extension\n",
    "    \n",
    "    \n",
    "    # Define an empty list to store file names\n",
    "    Target_list = []\n",
    "    \n",
    "    # Define file time incriments for each file.\n",
    "    # Total of 801 snap shots from 0 to 800\n",
    "    # Total time for simulation 11.4286 Gyr\n",
    "    file_dt = 11.4286/801 \n",
    "    \n",
    "    # Array of Snapshot number (note these will be float need ints)\n",
    "    Snaps = Time_array/file_dt\n",
    "    \n",
    "    # loop through Snaps and Store file name\n",
    "    for ii in range(len(Snaps)):\n",
    "        \n",
    "        # First check: For snaps less than 100: want to return Galaxy_0(01-99)\n",
    "        # Similar to OribitCOM assignment\n",
    "        if int(Snaps[ii]) < 100:\n",
    "            \n",
    "            # String of number values with snap number wanted\n",
    "            ilbl = \"000\" + str(int(Snaps[ii]))\n",
    "            \n",
    "            # Keep last 3 characters of string\n",
    "            ilbl = ilbl[-3:]\n",
    "            \n",
    "            # Compose file name\n",
    "            filename = Galaxy + \"_\" + ilbl\n",
    "            \n",
    "        else:\n",
    "            # Compose file name\n",
    "            filename = Galaxy + \"_\" + str(int(Snaps[ii]))\n",
    "        # Append file to file name\n",
    "        Target_list += [filename]\n",
    "        \n",
    "        \n",
    "    \n",
    "    return Target_list\n",
    "\n",
    "    "
   ]
  },
  {
   "cell_type": "code",
   "execution_count": 54,
   "metadata": {
    "scrolled": true
   },
   "outputs": [
    {
     "name": "stdout",
     "output_type": "stream",
     "text": [
      "6.84076051129523e-05 seconds\n",
      "['M31_000', 'M31_335', 'M31_425', 'M31_651']\n"
     ]
    }
   ],
   "source": [
    "# Function Test\n",
    "\n",
    "import time as t\n",
    "\n",
    "\n",
    "Times = np.array([0.0, 4.79, 6.07, 9.30])\n",
    "#Times = np.array([4.30, 4.33, 4.36, 4.39])\n",
    "start = t.clock()\n",
    "M31_snapshots = FileFinder(\"M31\", Times)\n",
    "end = t.clock()\n",
    "\n",
    "print (\"%s seconds\" % ((end-start)))\n",
    "print (M31_snapshots)"
   ]
  },
  {
   "cell_type": "code",
   "execution_count": null,
   "metadata": {},
   "outputs": [],
   "source": []
  },
  {
   "cell_type": "code",
   "execution_count": null,
   "metadata": {},
   "outputs": [],
   "source": []
  },
  {
   "cell_type": "code",
   "execution_count": null,
   "metadata": {},
   "outputs": [],
   "source": []
  },
  {
   "cell_type": "code",
   "execution_count": null,
   "metadata": {},
   "outputs": [],
   "source": []
  },
  {
   "cell_type": "code",
   "execution_count": null,
   "metadata": {},
   "outputs": [],
   "source": []
  },
  {
   "cell_type": "code",
   "execution_count": null,
   "metadata": {
    "collapsed": true
   },
   "outputs": [],
   "source": []
  }
 ],
 "metadata": {
  "kernelspec": {
   "display_name": "Python 3",
   "language": "python",
   "name": "python3"
  },
  "language_info": {
   "codemirror_mode": {
    "name": "ipython",
    "version": 3
   },
   "file_extension": ".py",
   "mimetype": "text/x-python",
   "name": "python",
   "nbconvert_exporter": "python",
   "pygments_lexer": "ipython3",
   "version": "3.6.2"
  }
 },
 "nbformat": 4,
 "nbformat_minor": 2
}
