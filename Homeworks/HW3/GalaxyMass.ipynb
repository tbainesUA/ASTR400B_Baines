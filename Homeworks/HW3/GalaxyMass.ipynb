{
 "cells": [
  {
   "cell_type": "code",
   "execution_count": 1,
   "metadata": {
    "collapsed": true
   },
   "outputs": [],
   "source": [
    "\"\"\"Program Name: GALAXYMASS\n",
    "Program that calls upon a function which takes in two parameters: Filename and and particle type.\n",
    "    3 types: Halo type (1), Disk type (2), Bulge (3) \n",
    "\n",
    "\n",
    "Program returns the TOTAL MASS of any galaxy component \n",
    "\"\"\""
   ]
  },
  {
   "cell_type": "code",
   "execution_count": 2,
   "metadata": {
    "collapsed": true
   },
   "outputs": [],
   "source": [
    "\"\"\"Import Packages\"\"\"\n",
    "import numpy as np\n",
    "import astropy.units as u\n",
    "import astropy.table as tbl\n",
    "from Readfile import Read\n"
   ]
  },
  {
   "cell_type": "code",
   "execution_count": 39,
   "metadata": {
    "collapsed": true
   },
   "outputs": [],
   "source": [
    "def ComponentMass(filename, particle_type):\n",
    "    #print(filename, particle_type) #Test to verify proper file picked and p_type chosen\n",
    "    \n",
    "    #Read data file in: MW_000, M31_000, M33_000\n",
    "    time, P_total, data = Read(filename)\n",
    "    \n",
    "    \n",
    "    #Identity component(particle type)\n",
    "    index = np.where(data[\"type\"]==particle_type)\n",
    "    #print (index)\n",
    "    \n",
    "    #Select mass values\n",
    "    m = data['m'][index]\n",
    "    #print (m)\n",
    "    \n",
    "    m_total = np.round(np.sum(m)*1e10*u.M_sun,3)\n",
    "    #print (m_total)\n",
    "    return m_total"
   ]
  },
  {
   "cell_type": "code",
   "execution_count": 177,
   "metadata": {},
   "outputs": [
    {
     "data": {
      "text/html": [
       "&lt;Table length=4&gt;\n",
       "<table id=\"table1859811996280-427875\" class=\"table-striped table-bordered table-condensed\">\n",
       "<thead><tr><th>idx</th><th>Galaxy</th><th>Halo Mass $(10^{12}M_{\\odot})$</th><th>Disk Mass $(10^{12}M_{\\odot})$</th><th>Bulge Mass $(10^{12}M_{\\odot})$</th><th>Total Mass $(10^{12}M_{\\odot})$</th><th>$f_{bar}$</th></tr></thead>\n",
       "<tr><td>0</td><td>MW</td><td>1.975</td><td>0.075</td><td>0.01</td><td>2.06</td><td>0.041</td></tr>\n",
       "<tr><td>1</td><td>M31</td><td>1.921</td><td>0.12</td><td>0.019</td><td>2.06</td><td>0.067</td></tr>\n",
       "<tr><td>2</td><td>M33</td><td>0.187</td><td>0.009</td><td>0.0</td><td>0.196</td><td>0.046</td></tr>\n",
       "<tr><td>3</td><td>Local Group</td><td>4.083</td><td>0.204</td><td>0.029</td><td>4.316</td><td>0.054</td></tr>\n",
       "</table><style>table.dataTable {clear: both; width: auto !important; margin: 0 !important;}\n",
       ".dataTables_info, .dataTables_length, .dataTables_filter, .dataTables_paginate{\n",
       "display: inline-block; margin-right: 1em; }\n",
       ".paginate_button { margin-right: 5px; }\n",
       "</style>\n",
       "<script>\n",
       "\n",
       "var astropy_sort_num = function(a, b) {\n",
       "    var a_num = parseFloat(a);\n",
       "    var b_num = parseFloat(b);\n",
       "\n",
       "    if (isNaN(a_num) && isNaN(b_num))\n",
       "        return ((a < b) ? -1 : ((a > b) ? 1 : 0));\n",
       "    else if (!isNaN(a_num) && !isNaN(b_num))\n",
       "        return ((a_num < b_num) ? -1 : ((a_num > b_num) ? 1 : 0));\n",
       "    else\n",
       "        return isNaN(a_num) ? -1 : 1;\n",
       "}\n",
       "\n",
       "require.config({paths: {\n",
       "    datatables: 'https://cdn.datatables.net/1.10.12/js/jquery.dataTables.min'\n",
       "}});\n",
       "require([\"datatables\"], function(){\n",
       "    console.log(\"$('#table1859811996280-427875').dataTable()\");\n",
       "    \n",
       "jQuery.extend( jQuery.fn.dataTableExt.oSort, {\n",
       "    \"optionalnum-asc\": astropy_sort_num,\n",
       "    \"optionalnum-desc\": function (a,b) { return -astropy_sort_num(a, b); }\n",
       "});\n",
       "\n",
       "    $('#table1859811996280-427875').dataTable({\n",
       "        order: [],\n",
       "        pageLength: 50,\n",
       "        lengthMenu: [[10, 25, 50, 100, 500, 1000, -1], [10, 25, 50, 100, 500, 1000, 'All']],\n",
       "        pagingType: \"full_numbers\",\n",
       "        columnDefs: [{targets: [0], type: \"optionalnum\"}]\n",
       "    });\n",
       "});\n",
       "</script>\n"
      ],
      "text/plain": [
       "<IPython.core.display.HTML object>"
      ]
     },
     "execution_count": 177,
     "metadata": {},
     "output_type": "execute_result"
    }
   ],
   "source": [
    "# Stored names of files to iterate through to compute component mass values\n",
    "fnames = ['MW_000', 'M31_000', 'M33_000', \"Local Group\"]\n",
    "\n",
    "# Empty array used to store computed values from the For Loop for making Table\n",
    "Data_tbl = np.zeros(0)\n",
    "\n",
    "# Values of total mass for each component to be stored and called upon later in loop\n",
    "TotalHalo = 0.0\n",
    "TotalDisk = 0.0\n",
    "TotalBulge = 0.0\n",
    "\n",
    "# Start of For Loop\n",
    "for file in fnames: #loop through fnames and calculate galaxy components mass\n",
    "    \n",
    "    # First check in fnames list iterated through\n",
    "    if file != \"Local Group\":\n",
    "        \n",
    "        # Strip unneeded characters from data file name and store Galaxy Name\n",
    "        GalaxyName = file.strip(\"_000\") \n",
    "   \n",
    "        # Calculate component Masses for particle types, 1-3\n",
    "        HaloMass = np.round(ComponentMass(file,1)/1e12,3)\n",
    "        DiskMass = np.round(ComponentMass(file,2)/1e12,3)\n",
    "        BulgeMass = np.round(ComponentMass(file,3)/1e12,3)\n",
    "\n",
    "        # Calculate Total Mass values for each component\n",
    "        TotalHalo += HaloMass\n",
    "        TotalDisk += DiskMass\n",
    "        TotalBulge += BulgeMass\n",
    "        TotalMass = HaloMass+DiskMass+BulgeMass\n",
    "\n",
    "        # Determine Baryon fraction (total stellar mass, total mass)\n",
    "        f_bar = np.round((BulgeMass+DiskMass)/TotalMass,3)\n",
    "\n",
    "\n",
    "        # store variables into list\n",
    "        Eval = [GalaxyName,HaloMass, DiskMass, BulgeMass, TotalMass, f_bar]\n",
    "        \n",
    "\n",
    "        # A loop to append each calculated value to empty Data_tbl array\n",
    "        for j in Eval:\n",
    "            Data_tbl = np.append(Data_tbl, j)\n",
    "            \n",
    "    #Do this if failed first check\n",
    "    else:\n",
    "        \n",
    "        # Else statement to Calculates Local Group Values\n",
    "        # Not input file for ComponentMass function, takes in Calculated sums define before start of Loop\n",
    "        GalaxyName = file\n",
    "        \n",
    "        # Calculated the total Local Group Mass\n",
    "        TotalLocal = TotalHalo+TotalDisk+TotalBulge\n",
    "        \n",
    "        # Calculated the Baryon Fraction for Local Group\n",
    "        f_local = (TotalDisk+TotalBulge)/TotalLocal\n",
    "        \n",
    "        #List of Local Group values to appended to Data_tbl array \n",
    "        Local = [GalaxyName, np.round(TotalHalo,3), np.round(TotalDisk,3), np.round(TotalBulge,3), np.round(TotalLocal,3), np.round(f_local,3)]\n",
    "        \n",
    "        # Loop that appends each values in Local list to Data_tbl\n",
    "        for k in Local:\n",
    "            \n",
    "            # Append the kth index in Local to Data_tbl\n",
    "            Data_tbl = np.append(Data_tbl,k)\n",
    "\n",
    "\n",
    "# Reshape array to 4 by 6 for table arguments.\n",
    "Data_array = np.reshape(Data_tbl,[4,6])\n",
    "\n",
    "\"\"\"Table Properties\"\"\"\n",
    "\n",
    "# Define each column name argument\n",
    "Col_names = ['Galaxy', 'Halo Mass $(10^{12}M_{\\odot})$', 'Disk Mass $(10^{12}M_{\\odot})$', 'Bulge Mass $(10^{12}M_{\\odot})$', 'Total Mass $(10^{12}M_{\\odot})$', '$f_{bar}$']\n",
    "\n",
    "# Make table store as t\n",
    "t = tbl.Table(Data_array, names = (Col_names))\n",
    "\n",
    "# Show table in notebook\n",
    "t.show_in_notebook()\n",
    "\n",
    "#Save table to LaTex format (uncomment if saving)\n",
    "#t.write(\"Table_LaTex.txt\", format='latex')\n",
    "#t.write(\"Table.txt\", format = 'ascii.tab')"
   ]
  },
  {
   "cell_type": "code",
   "execution_count": null,
   "metadata": {},
   "outputs": [],
   "source": []
  },
  {
   "cell_type": "code",
   "execution_count": null,
   "metadata": {},
   "outputs": [],
   "source": []
  },
  {
   "cell_type": "code",
   "execution_count": null,
   "metadata": {
    "collapsed": true
   },
   "outputs": [],
   "source": [
    "\n"
   ]
  },
  {
   "cell_type": "code",
   "execution_count": null,
   "metadata": {
    "collapsed": true
   },
   "outputs": [],
   "source": []
  }
 ],
 "metadata": {
  "kernelspec": {
   "display_name": "Python 3",
   "language": "python",
   "name": "python3"
  },
  "language_info": {
   "codemirror_mode": {
    "name": "ipython",
    "version": 3
   },
   "file_extension": ".py",
   "mimetype": "text/x-python",
   "name": "python",
   "nbconvert_exporter": "python",
   "pygments_lexer": "ipython3",
   "version": "3.6.2"
  }
 },
 "nbformat": 4,
 "nbformat_minor": 2
}
