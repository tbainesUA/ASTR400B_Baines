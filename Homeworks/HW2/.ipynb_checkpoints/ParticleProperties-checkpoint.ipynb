{
 "cells": [
  {
   "cell_type": "code",
   "execution_count": 2,
   "metadata": {
    "collapsed": true
   },
   "outputs": [],
   "source": [
    "\"\"\"Import Packages\"\"\"\n",
    "import numpy as np\n",
    "import astropy.units as u\n",
    "from Readfile import Read\n",
    "\n",
    "\n"
   ]
  },
  {
   "cell_type": "code",
   "execution_count": 4,
   "metadata": {
    "collapsed": true
   },
   "outputs": [],
   "source": [
    "\"\"\"Particle Info Function\"\"\"\n",
    "def ParticleInfo(particle_type, particle_num):\n",
    "    \n",
    "    time, P_total, data = Read(\"MW_000.txt\")\n",
    "\n",
    "    index = np.where(data['x']>1)\n",
    "    \n",
    "    \"\"\"Positions\"\"\"\n",
    "    x = data['x'][index]\n",
    "    y = data['y'][index]\n",
    "    z = data['z'][index]\n",
    "    \"\"\"Velocities\"\"\"\n",
    "    vx = data['vx'][index]\n",
    "    vy = data['vy'][index]\n",
    "    vz = data['vz'][index]\n",
    "    \"\"\"3D translations\"\"\"\n",
    "    R = x*x+y*y+z*z\n",
    "    VR = x*x+y*y+z*z\n",
    "    r = np.sqrt(R)\n",
    "    v_r = np.sqrt(V_R)"
   ]
  },
  {
   "cell_type": "code",
   "execution_count": null,
   "metadata": {
    "collapsed": true
   },
   "outputs": [],
   "source": []
  }
 ],
 "metadata": {
  "kernelspec": {
   "display_name": "Python 3",
   "language": "python",
   "name": "python3"
  },
  "language_info": {
   "codemirror_mode": {
    "name": "ipython",
    "version": 3
   },
   "file_extension": ".py",
   "mimetype": "text/x-python",
   "name": "python",
   "nbconvert_exporter": "python",
   "pygments_lexer": "ipython3",
   "version": "3.6.2"
  }
 },
 "nbformat": 4,
 "nbformat_minor": 2
}
